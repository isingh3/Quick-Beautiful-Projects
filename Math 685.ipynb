{
 "cells": [
  {
   "cell_type": "markdown",
   "metadata": {},
   "source": [
    "## Project Question 1:"
   ]
  },
  {
   "cell_type": "code",
   "execution_count": 1,
   "metadata": {
    "collapsed": true
   },
   "outputs": [],
   "source": [
    "import numpy as np\n",
    "\n",
    "# A list to store all roots for a polynomial!\n",
    "roots = []"
   ]
  },
  {
   "cell_type": "markdown",
   "metadata": {},
   "source": [
    "## Polynom\n",
    "\n",
    "Defined a common function to access the given equations by using selection parameter"
   ]
  },
  {
   "cell_type": "code",
   "execution_count": 2,
   "metadata": {
    "collapsed": false
   },
   "outputs": [],
   "source": [
    "# to store all the roots!\n",
    "def polynom(x, selection = 1):\n",
    "    '''\n",
    "    x: guess value\n",
    "    selection: select the equation for root finding\n",
    "    '''\n",
    "    \n",
    "    # to stop if int is not provided\n",
    "    assert int(selection)\n",
    "    \n",
    "    if selection == 1:\n",
    "        return x**4 - 1\n",
    "    elif selection == 2:\n",
    "        return x**5 - 5*x**4 - 8*x**3 + 40*x**2 - 9*x + 45\n",
    "    else:\n",
    "        return 1.1*x**5 - 5*x**4 - 8*x**3 + 40*x**2 - 9*x + 45\n",
    "    \n",
    "def polynom_prime(x, selection):\n",
    "    if selection == 1:\n",
    "        return 4*x**3\n",
    "    elif selection == 2:\n",
    "        return 5*x**4 - 5*4*x**3 - 8*3*x**2 +40*2*x - 9\n",
    "    else: \n",
    "        return 1.1* 5*x**4 - 5*4*x**3 - 8*3*x**2 +40*2*x - 9"
   ]
  },
  {
   "cell_type": "markdown",
   "metadata": {},
   "source": [
    "## Hornor's Algorithm\n",
    "\n",
    "Implemented the modified horner's algorithm by taking off a root from the polynomial at each iteration"
   ]
  },
  {
   "cell_type": "code",
   "execution_count": 3,
   "metadata": {
    "collapsed": true
   },
   "outputs": [],
   "source": [
    "def horners_algo(x, for_eq):\n",
    "    '''\n",
    "    for_eq: : parameter for polynom function\n",
    "    '''\n",
    "    poly = polynom(x, selection= for_eq)\n",
    "    for r in roots:\n",
    "        denominator = x - r\n",
    "        while (abs(denominator) < 1e-8):  # avoid division by a 0\n",
    "            denominator += 1.0e-8\n",
    "        poly = poly / denominator\n",
    "    return poly"
   ]
  },
  {
   "cell_type": "markdown",
   "metadata": {},
   "source": [
    "## Muller's Algorithm\n",
    "\n",
    "Implemented the muler's algorithm to in a iterative scheme to find all the roots of a polynomial."
   ]
  },
  {
   "cell_type": "code",
   "execution_count": 4,
   "metadata": {
    "collapsed": true
   },
   "outputs": [],
   "source": [
    "def muller_algo(for_eq, guesses, iteration = 100, tol = 0.00000001, poly_degree= 1):\n",
    "    '''\n",
    "    roots finding with parm description:\n",
    "    for_eq: parameter for polynom function\n",
    "    guesses: the initial random guess [a,b,c]\n",
    "    iteration = 100 \n",
    "    tol = 0.00000001: the threshold tolerance \n",
    "    poly_degree= 1: degree of polynomial to extract roots = degree of polynomial\n",
    "    ''' \n",
    "    for i in range(poly_degree):\n",
    "        guess = np.array([guesses[0], guesses[1], guesses[2]], dtype=complex)\n",
    "        y_values = np.array([horners_algo(x, for_eq) for x in guess], dtype=complex)\n",
    "        \n",
    "        h = guess[2] - guess[1]\n",
    "        q = h/(guess[1] - guess[0])\n",
    "        \n",
    "        for j in range(iteration):\n",
    "            A = q*y_values[2] - q*(1+q)*y_values[1] + q**2*y_values[0]\n",
    "            B = (2*q+1) * y_values[2] - (1+q)**2*y_values[1] + q**2 * y_values[0]\n",
    "            C = (1+q)*y_values[2]\n",
    "            Q = np.sqrt(B**2 - 4*A*C)\n",
    "            D = B + Q\n",
    "            E = B - Q\n",
    "            if np.abs(D) < np.abs(E):\n",
    "                D = E\n",
    "            guess[0] = guess[1]\n",
    "            guess[1] = guess[2]\n",
    "            y_values[0] = y_values[1]\n",
    "            y_values[1] = y_values[2]\n",
    "            \n",
    "            q = -2.0 * C/D\n",
    "            h *= q\n",
    "            guess[2] += h\n",
    "            absf = 100. * abs(y_values[2])\n",
    "            while True:\n",
    "                y_values[2] = horners_algo(guess[2], for_eq)\n",
    "                if abs(y_values[2]) < absf:\n",
    "                    break\n",
    "                guess[2] -= h\n",
    "                h *= 0.5\n",
    "                guess[2] += h\n",
    "            if (abs(polynom(guess[2], for_eq)) <= tol or abs(h) <= tol):\n",
    "                break\n",
    "        roots.append(guess[2])\n",
    "    return roots"
   ]
  },
  {
   "cell_type": "code",
   "execution_count": 5,
   "metadata": {
    "collapsed": false
   },
   "outputs": [
    {
     "name": "stdout",
     "output_type": "stream",
     "text": [
      "Roots fo rthe equation: `x**4 - 1` are\n",
      " => [(1+0j), (1+0j), (1+0j), (1+0j)]\n"
     ]
    }
   ],
   "source": [
    "# to re initialize roots list to empty!\n",
    "roots = []\n",
    "# guesses\n",
    "guess = [0, 1, 2]\n",
    "\n",
    "print('Roots fo rthe equation: `x**4 - 1` are\\n =>', muller_algo(for_eq = 1, guesses=guess, poly_degree= 4))\n",
    "rt1 = roots.copy()"
   ]
  },
  {
   "cell_type": "code",
   "execution_count": 6,
   "metadata": {
    "collapsed": false
   },
   "outputs": [
    {
     "name": "stdout",
     "output_type": "stream",
     "text": [
      "Roots fo rthe equation: `x**5 - 5*x**4 - 8*x**3 + 40*x**2 - 9*x + 45` are\n",
      " => [(1.8040141094308122e-13-0.99999999999997125j), (4.0948721786569537e-14+1.0000000000000018j), (2.9999999999668674-1.2380873493843361e-22j), (-3-5.7064557053005134e-24j), (5.0000000000000009-9.6824358366494549e-23j)]\n"
     ]
    }
   ],
   "source": [
    "# to re initialize roots list to empty!\n",
    "roots = []\n",
    "# guesses\n",
    "guess = [0, 1.77, 1]\n",
    "\n",
    "print('Roots fo rthe equation: `x**5 - 5*x**4 - 8*x**3 + 40*x**2 - 9*x + 45` are\\n =>', muller_algo(for_eq = 2, guesses=guess, poly_degree= 5))\n",
    "rt2 = roots.copy()"
   ]
  },
  {
   "cell_type": "code",
   "execution_count": 7,
   "metadata": {
    "collapsed": false
   },
   "outputs": [
    {
     "name": "stdout",
     "output_type": "stream",
     "text": [
      "Roots fo rthe equation: `1.1*x**5 - 5*x**4 - 8*x**3 + 40*x**2 - 9*x + 45` are\n",
      " => [(-0.00095977384355975073-0.99980399600957925j), (-2.9512718191699325+5.7639715682251426e-12j), (-0.00095977387328752143+0.99980399606237758j), (3.312874116599867-6.0517877782874903e-20j), (4.1857717957082219-9.2919783147495827e-21j)]\n"
     ]
    }
   ],
   "source": [
    "# to re initialize roots list to empty!\n",
    "roots = []\n",
    "\n",
    "# guesses\n",
    "guess = [-1, 1.77, -8]\n",
    "\n",
    "print('Roots fo rthe equation: `1.1*x**5 - 5*x**4 - 8*x**3 + 40*x**2 - 9*x + 45` are\\n =>', muller_algo(for_eq = 3, guesses=guess, poly_degree= 5))\n",
    "rt3 = roots.copy()"
   ]
  },
  {
   "cell_type": "markdown",
   "metadata": {},
   "source": [
    "# Newton!"
   ]
  },
  {
   "cell_type": "code",
   "execution_count": 41,
   "metadata": {
    "collapsed": false,
    "scrolled": false
   },
   "outputs": [
    {
     "name": "stdout",
     "output_type": "stream",
     "text": [
      "\n",
      "\n",
      "** Now Computing Newton's Method for following guesses: [(1+0j), (1+0j), (1+0j), (1+0j)] \n",
      "\n",
      "\n",
      "* Approximation @ ****`(1+0j) '****')\n",
      "\n",
      "iteration:  1  New X:  (-0.9723+0j)   Relative Error:  202.848  X:  (1+0j)\n",
      "iteration:  2  New X:  (2.085+0j)   Relative Error:  146.634  X:  (-0.9723+0j)\n",
      "iteration:  3  New X:  (4.2037+0j)   Relative Error:  50.401  X:  (2.085+0j)\n",
      "iteration:  4  New X:  (0.9826+0j)   Relative Error:  327.791  X:  (4.2037+0j)\n",
      "iteration:  5  New X:  (-0.9496+0j)   Relative Error:  203.48  X:  (0.9826+0j)\n",
      "iteration:  6  New X:  (2.0769+0j)   Relative Error:  145.721  X:  (-0.9496+0j)\n",
      "iteration:  7  New X:  (4.302+0j)   Relative Error:  51.722  X:  (2.0769+0j)\n",
      "iteration:  8  New X:  (0.9019+0j)   Relative Error:  377.018  X:  (4.302+0j)\n",
      "iteration:  9  New X:  (-0.8682+0j)   Relative Error:  203.872  X:  (0.9019+0j)\n",
      "iteration:  10  New X:  (2.0558+0j)   Relative Error:  142.233  X:  (-0.8682+0j)\n",
      "(2.05581931536+0j)\n",
      "\n",
      "* Approximation @ ****`(1+0j) '****')\n",
      "\n",
      "iteration:  1  New X:  (-0.9723+0j)   Relative Error:  202.848  X:  (1+0j)\n",
      "iteration:  2  New X:  (2.085+0j)   Relative Error:  146.634  X:  (-0.9723+0j)\n",
      "iteration:  3  New X:  (4.2037+0j)   Relative Error:  50.401  X:  (2.085+0j)\n",
      "iteration:  4  New X:  (0.9826+0j)   Relative Error:  327.791  X:  (4.2037+0j)\n",
      "iteration:  5  New X:  (-0.9496+0j)   Relative Error:  203.48  X:  (0.9826+0j)\n",
      "iteration:  6  New X:  (2.0769+0j)   Relative Error:  145.721  X:  (-0.9496+0j)\n",
      "iteration:  7  New X:  (4.302+0j)   Relative Error:  51.722  X:  (2.0769+0j)\n",
      "iteration:  8  New X:  (0.9019+0j)   Relative Error:  377.018  X:  (4.302+0j)\n",
      "iteration:  9  New X:  (-0.8682+0j)   Relative Error:  203.872  X:  (0.9019+0j)\n",
      "iteration:  10  New X:  (2.0558+0j)   Relative Error:  142.233  X:  (-0.8682+0j)\n",
      "(2.05581931536+0j)\n",
      "\n",
      "* Approximation @ ****`(1+0j) '****')\n",
      "\n",
      "iteration:  1  New X:  (-0.9723+0j)   Relative Error:  202.848  X:  (1+0j)\n",
      "iteration:  2  New X:  (2.085+0j)   Relative Error:  146.634  X:  (-0.9723+0j)\n",
      "iteration:  3  New X:  (4.2037+0j)   Relative Error:  50.401  X:  (2.085+0j)\n",
      "iteration:  4  New X:  (0.9826+0j)   Relative Error:  327.791  X:  (4.2037+0j)\n",
      "iteration:  5  New X:  (-0.9496+0j)   Relative Error:  203.48  X:  (0.9826+0j)\n",
      "iteration:  6  New X:  (2.0769+0j)   Relative Error:  145.721  X:  (-0.9496+0j)\n",
      "iteration:  7  New X:  (4.302+0j)   Relative Error:  51.722  X:  (2.0769+0j)\n",
      "iteration:  8  New X:  (0.9019+0j)   Relative Error:  377.018  X:  (4.302+0j)\n",
      "iteration:  9  New X:  (-0.8682+0j)   Relative Error:  203.872  X:  (0.9019+0j)\n",
      "iteration:  10  New X:  (2.0558+0j)   Relative Error:  142.233  X:  (-0.8682+0j)\n",
      "(2.05581931536+0j)\n",
      "\n",
      "* Approximation @ ****`(1+0j) '****')\n",
      "\n",
      "iteration:  1  New X:  (-0.9723+0j)   Relative Error:  202.848  X:  (1+0j)\n",
      "iteration:  2  New X:  (2.085+0j)   Relative Error:  146.634  X:  (-0.9723+0j)\n",
      "iteration:  3  New X:  (4.2037+0j)   Relative Error:  50.401  X:  (2.085+0j)\n",
      "iteration:  4  New X:  (0.9826+0j)   Relative Error:  327.791  X:  (4.2037+0j)\n",
      "iteration:  5  New X:  (-0.9496+0j)   Relative Error:  203.48  X:  (0.9826+0j)\n",
      "iteration:  6  New X:  (2.0769+0j)   Relative Error:  145.721  X:  (-0.9496+0j)\n",
      "iteration:  7  New X:  (4.302+0j)   Relative Error:  51.722  X:  (2.0769+0j)\n",
      "iteration:  8  New X:  (0.9019+0j)   Relative Error:  377.018  X:  (4.302+0j)\n",
      "iteration:  9  New X:  (-0.8682+0j)   Relative Error:  203.872  X:  (0.9019+0j)\n",
      "iteration:  10  New X:  (2.0558+0j)   Relative Error:  142.233  X:  (-0.8682+0j)\n",
      "(2.05581931536+0j)\n",
      "\n",
      "\n",
      "\n",
      "********************************Changing list********************************\n",
      "\n",
      "\n",
      "** Now Computing Newton's Method for following guesses: [(1.8040141094308122e-13-0.99999999999997125j), (4.0948721786569537e-14+1.0000000000000018j), (2.9999999999668674-1.2380873493843361e-22j), (-3-5.7064557053005134e-24j), (5.0000000000000009-9.6824358366494549e-23j)] \n",
      "\n",
      "\n",
      "* Approximation @ ****`(1.8040141094308122e-13-0.9999999999999712j) '****')\n",
      "\n",
      "iteration:  1  New X:  (-0.001-0.9998j)   Relative Error:  0.098  X:  -1j\n",
      "iteration:  2  New X:  (-0-1j)   Relative Error:  0.098  X:  (-0.001-0.9998j)\n",
      "iteration:  3  New X:  (-0.001-0.9998j)   Relative Error:  0.098  X:  (-0-1j)\n",
      "iteration:  4  New X:  (-0-1j)   Relative Error:  0.098  X:  (-0.001-0.9998j)\n",
      "iteration:  5  New X:  (-0.001-0.9998j)   Relative Error:  0.098  X:  (-0-1j)\n",
      "iteration:  6  New X:  (-0-1j)   Relative Error:  0.098  X:  (-0.001-0.9998j)\n",
      "iteration:  7  New X:  (-0.001-0.9998j)   Relative Error:  0.098  X:  (-0-1j)\n",
      "iteration:  8  New X:  (-0-1j)   Relative Error:  0.098  X:  (-0.001-0.9998j)\n",
      "iteration:  9  New X:  (-0.001-0.9998j)   Relative Error:  0.098  X:  (-0-1j)\n",
      "iteration:  10  New X:  (-0-1j)   Relative Error:  0.098  X:  (-0.001-0.9998j)\n",
      "(-5.30863411872e-07-1.00000364075j)\n",
      "\n",
      "* Approximation @ ****`(4.094872178656954e-14+1.0000000000000018j) '****')\n",
      "\n",
      "iteration:  1  New X:  (-0.001+0.9998j)   Relative Error:  0.098  X:  1j\n",
      "iteration:  2  New X:  (-0+1j)   Relative Error:  0.098  X:  (-0.001+0.9998j)\n",
      "iteration:  3  New X:  (-0.001+0.9998j)   Relative Error:  0.098  X:  (-0+1j)\n",
      "iteration:  4  New X:  (-0+1j)   Relative Error:  0.098  X:  (-0.001+0.9998j)\n",
      "iteration:  5  New X:  (-0.001+0.9998j)   Relative Error:  0.098  X:  (-0+1j)\n",
      "iteration:  6  New X:  (-0+1j)   Relative Error:  0.098  X:  (-0.001+0.9998j)\n",
      "iteration:  7  New X:  (-0.001+0.9998j)   Relative Error:  0.098  X:  (-0+1j)\n",
      "iteration:  8  New X:  (-0+1j)   Relative Error:  0.098  X:  (-0.001+0.9998j)\n",
      "iteration:  9  New X:  (-0.001+0.9998j)   Relative Error:  0.098  X:  (-0+1j)\n",
      "iteration:  10  New X:  (-0+1j)   Relative Error:  0.098  X:  (-0.001+0.9998j)\n",
      "(-5.30863551514e-07+1.00000364075j)\n",
      "\n",
      "* Approximation @ ****`(2.9999999999668674-1.2380873493843361e-22j) '****')\n",
      "\n",
      "iteration:  1  New X:  (3.3057+0j)   Relative Error:  9.247  X:  (3-0j)\n",
      "iteration:  2  New X:  (3.0072-0j)   Relative Error:  9.925  X:  (3.3057+0j)\n",
      "iteration:  3  New X:  (3.2982+0j)   Relative Error:  8.824  X:  (3.0072-0j)\n",
      "iteration:  4  New X:  (3.0146-0j)   Relative Error:  9.409  X:  (3.2982+0j)\n",
      "iteration:  5  New X:  (3.2906+0j)   Relative Error:  8.389  X:  (3.0146-0j)\n",
      "iteration:  6  New X:  (3.0221-0j)   Relative Error:  8.886  X:  (3.2906+0j)\n",
      "iteration:  7  New X:  (3.283+0j)   Relative Error:  7.947  X:  (3.0221-0j)\n",
      "iteration:  8  New X:  (3.0296-0j)   Relative Error:  8.363  X:  (3.283+0j)\n",
      "iteration:  9  New X:  (3.2753+0j)   Relative Error:  7.502  X:  (3.0296-0j)\n",
      "iteration:  10  New X:  (3.037-0j)   Relative Error:  7.845  X:  (3.2753+0j)\n",
      "(3.03704791149-1.40059685203e-22j)\n",
      "\n",
      "* Approximation @ ****`(-3-5.7064557053005134e-24j) '****')\n",
      "\n",
      "iteration:  1  New X:  (-2.9533-0j)   Relative Error:  1.581  X:  (-3-0j)\n",
      "iteration:  2  New X:  (-2.998-0j)   Relative Error:  1.489  X:  (-2.9533-0j)\n",
      "iteration:  3  New X:  (-2.9552-0j)   Relative Error:  1.447  X:  (-2.998-0j)\n",
      "iteration:  4  New X:  (-2.9961-0j)   Relative Error:  1.365  X:  (-2.9552-0j)\n",
      "iteration:  5  New X:  (-2.9569-0j)   Relative Error:  1.325  X:  (-2.9961-0j)\n",
      "iteration:  6  New X:  (-2.9944-0j)   Relative Error:  1.252  X:  (-2.9569-0j)\n",
      "iteration:  7  New X:  (-2.9585-0j)   Relative Error:  1.213  X:  (-2.9944-0j)\n",
      "iteration:  8  New X:  (-2.9928-0j)   Relative Error:  1.147  X:  (-2.9585-0j)\n",
      "iteration:  9  New X:  (-2.9599-0j)   Relative Error:  1.111  X:  (-2.9928-0j)\n",
      "iteration:  10  New X:  (-2.9914-0j)   Relative Error:  1.052  X:  (-2.9599-0j)\n",
      "(-2.99139820148-3.91164996171e-24j)\n",
      "\n",
      "* Approximation @ ****`(5.000000000000001-9.682435836649455e-23j) '****')\n",
      "\n",
      "iteration:  1  New X:  (4.571-0j)   Relative Error:  9.384  X:  (5-0j)\n",
      "iteration:  2  New X:  (4.7462-0j)   Relative Error:  3.692  X:  (4.571-0j)\n",
      "iteration:  3  New X:  (4.6683-0j)   Relative Error:  1.669  X:  (4.7462-0j)\n",
      "iteration:  4  New X:  (4.7016-0j)   Relative Error:  0.707  X:  (4.6683-0j)\n",
      "iteration:  5  New X:  (4.6872-0j)   Relative Error:  0.307  X:  (4.7016-0j)\n",
      "iteration:  6  New X:  (4.6934-0j)   Relative Error:  0.132  X:  (4.6872-0j)\n",
      "iteration:  7  New X:  (4.6907-0j)   Relative Error:  0.057  X:  (4.6934-0j)\n",
      "iteration:  8  New X:  (4.6918-0j)   Relative Error:  0.025  X:  (4.6907-0j)\n",
      "iteration:  9  New X:  (4.6913-0j)   Relative Error:  0.011  X:  (4.6918-0j)\n",
      "iteration:  10  New X:  (4.6915-0j)   Relative Error:  0.005  X:  (4.6913-0j)\n",
      "(4.69154919229-6.76129395818e-23j)\n",
      "\n",
      "\n",
      "\n",
      "********************************Changing list********************************\n",
      "\n",
      "\n",
      "** Now Computing Newton's Method for following guesses: [(-0.00095977384355975073-0.99980399600957925j), (-2.9512718191699325+5.7639715682251426e-12j), (-0.00095977387328752143+0.99980399606237758j), (3.312874116599867-6.0517877782874903e-20j), (4.1857717957082219-9.2919783147495827e-21j)] \n",
      "\n",
      "\n",
      "* Approximation @ ****`(-0.0009597738435597507-0.9998039960095793j) '****')\n",
      "\n",
      "iteration:  1  New X:  (-0.001-0.9998j)   Relative Error:  0.0  X:  (-0.001-0.9998j)\n",
      "iteration:  2  New X:  (-0.001-0.9998j)   Relative Error:  0.0  X:  (-0.001-0.9998j)\n",
      "iteration:  3  New X:  (-0.001-0.9998j)   Relative Error:  0.0  X:  (-0.001-0.9998j)\n",
      "iteration:  4  New X:  (-0.001-0.9998j)   Relative Error:  0.0  X:  (-0.001-0.9998j)\n",
      "iteration:  5  New X:  (-0.001-0.9998j)   Relative Error:  0.0  X:  (-0.001-0.9998j)\n",
      "iteration:  6  New X:  (-0.001-0.9998j)   Relative Error:  0.0  X:  (-0.001-0.9998j)\n",
      "iteration:  7  New X:  (-0.001-0.9998j)   Relative Error:  0.0  X:  (-0.001-0.9998j)\n",
      "iteration:  8  New X:  (-0.001-0.9998j)   Relative Error:  0.0  X:  (-0.001-0.9998j)\n",
      "iteration:  9  New X:  (-0.001-0.9998j)   Relative Error:  0.0  X:  (-0.001-0.9998j)\n",
      "iteration:  10  New X:  (-0.001-0.9998j)   Relative Error:  0.0  X:  (-0.001-0.9998j)\n",
      "(-0.00095977384356-0.99980399601j)\n",
      "\n",
      "* Approximation @ ****`(-2.9512718191699325+5.763971568225143e-12j) '****')\n",
      "\n",
      "iteration:  1  New X:  (-2.9513+0j)   Relative Error:  0.0  X:  (-2.9513+0j)\n",
      "iteration:  2  New X:  (-2.9513+0j)   Relative Error:  0.0  X:  (-2.9513+0j)\n",
      "iteration:  3  New X:  (-2.9513+0j)   Relative Error:  0.0  X:  (-2.9513+0j)\n",
      "iteration:  4  New X:  (-2.9513+0j)   Relative Error:  0.0  X:  (-2.9513+0j)\n",
      "iteration:  5  New X:  (-2.9513+0j)   Relative Error:  0.0  X:  (-2.9513+0j)\n",
      "iteration:  6  New X:  (-2.9513+0j)   Relative Error:  0.0  X:  (-2.9513+0j)\n",
      "iteration:  7  New X:  (-2.9513+0j)   Relative Error:  0.0  X:  (-2.9513+0j)\n",
      "iteration:  8  New X:  (-2.9513+0j)   Relative Error:  0.0  X:  (-2.9513+0j)\n",
      "iteration:  9  New X:  (-2.9513+0j)   Relative Error:  0.0  X:  (-2.9513+0j)\n",
      "iteration:  10  New X:  (-2.9513+0j)   Relative Error:  0.0  X:  (-2.9513+0j)\n",
      "(-2.95127181917+5.76397156804e-12j)\n",
      "\n",
      "* Approximation @ ****`(-0.0009597738732875214+0.9998039960623776j) '****')\n",
      "\n",
      "iteration:  1  New X:  (-0.001+0.9998j)   Relative Error:  0.0  X:  (-0.001+0.9998j)\n",
      "iteration:  2  New X:  (-0.001+0.9998j)   Relative Error:  0.0  X:  (-0.001+0.9998j)\n",
      "iteration:  3  New X:  (-0.001+0.9998j)   Relative Error:  0.0  X:  (-0.001+0.9998j)\n",
      "iteration:  4  New X:  (-0.001+0.9998j)   Relative Error:  0.0  X:  (-0.001+0.9998j)\n",
      "iteration:  5  New X:  (-0.001+0.9998j)   Relative Error:  0.0  X:  (-0.001+0.9998j)\n",
      "iteration:  6  New X:  (-0.001+0.9998j)   Relative Error:  0.0  X:  (-0.001+0.9998j)\n",
      "iteration:  7  New X:  (-0.001+0.9998j)   Relative Error:  0.0  X:  (-0.001+0.9998j)\n",
      "iteration:  8  New X:  (-0.001+0.9998j)   Relative Error:  0.0  X:  (-0.001+0.9998j)\n",
      "iteration:  9  New X:  (-0.001+0.9998j)   Relative Error:  0.0  X:  (-0.001+0.9998j)\n",
      "iteration:  10  New X:  (-0.001+0.9998j)   Relative Error:  0.0  X:  (-0.001+0.9998j)\n",
      "(-0.000959773873288+0.999803996062j)\n",
      "\n",
      "* Approximation @ ****`(3.312874116599867-6.05178777828749e-20j) '****')\n",
      "\n",
      "iteration:  1  New X:  (3.3129+0j)   Relative Error:  0.0  X:  (3.3129-0j)\n",
      "iteration:  2  New X:  (3.3129-0j)   Relative Error:  0.0  X:  (3.3129+0j)\n",
      "iteration:  3  New X:  (3.3129-0j)   Relative Error:  0.0  X:  (3.3129-0j)\n",
      "iteration:  4  New X:  (3.3129-0j)   Relative Error:  0.0  X:  (3.3129-0j)\n",
      "iteration:  5  New X:  (3.3129-0j)   Relative Error:  0.0  X:  (3.3129-0j)\n",
      "iteration:  6  New X:  (3.3129-0j)   Relative Error:  0.0  X:  (3.3129-0j)\n",
      "iteration:  7  New X:  (3.3129-0j)   Relative Error:  0.0  X:  (3.3129-0j)\n",
      "iteration:  8  New X:  (3.3129-0j)   Relative Error:  0.0  X:  (3.3129-0j)\n",
      "iteration:  9  New X:  (3.3129-0j)   Relative Error:  0.0  X:  (3.3129-0j)\n",
      "iteration:  10  New X:  (3.3129-0j)   Relative Error:  0.0  X:  (3.3129-0j)\n",
      "(3.3128741166-6.05178777829e-20j)\n",
      "\n",
      "* Approximation @ ****`(4.185771795708222-9.291978314749583e-21j) '****')\n",
      "\n",
      "iteration:  1  New X:  (4.1858+0j)   Relative Error:  0.0  X:  (4.1858-0j)\n",
      "iteration:  2  New X:  (4.1858-0j)   Relative Error:  0.0  X:  (4.1858+0j)\n",
      "iteration:  3  New X:  (4.1858+0j)   Relative Error:  0.0  X:  (4.1858-0j)\n",
      "iteration:  4  New X:  (4.1858-0j)   Relative Error:  0.0  X:  (4.1858+0j)\n",
      "iteration:  5  New X:  (4.1858+0j)   Relative Error:  0.0  X:  (4.1858-0j)\n",
      "iteration:  6  New X:  (4.1858-0j)   Relative Error:  0.0  X:  (4.1858+0j)\n",
      "iteration:  7  New X:  (4.1858+0j)   Relative Error:  0.0  X:  (4.1858-0j)\n",
      "iteration:  8  New X:  (4.1858-0j)   Relative Error:  0.0  X:  (4.1858+0j)\n",
      "iteration:  9  New X:  (4.1858+0j)   Relative Error:  0.0  X:  (4.1858-0j)\n",
      "iteration:  10  New X:  (4.1858-0j)   Relative Error:  0.0  X:  (4.1858+0j)\n",
      "(4.18577179571-9.29197831475e-21j)\n",
      "\n",
      "\n",
      "\n",
      "********************************Changing list********************************\n"
     ]
    }
   ],
   "source": [
    "def newton_r(guess, iterations, selection):\n",
    "    \n",
    "    x = guess\n",
    "    x_new = 0\n",
    "    for i in range(iterations):\n",
    "        x_new = guess - (polynom(x, selection)/polynom_prime(x, selection))\n",
    "        epsilon = round(abs((x_new - x)/x_new)*100,6)\n",
    "        print('iteration: ', i+1, ' New X: ', round(x_new,4), '  Relative Error: ', round(epsilon,3), ' X: ', round(x,4))\n",
    "        x = x_new\n",
    "    \n",
    "    # returns the root!\n",
    "    return x_new #print(\"\\n**** Predicted Root: \",x_new,'****')\n",
    "\n",
    "for i in [rt1, rt2, rt3]:\n",
    "    a = 0\n",
    "    print(\"\\n\\n** Now Computing Newton's Method for following guesses:\", i, '\\n')\n",
    "    for r in i:\n",
    "        print(\"\\n* Approximation @ ****`{:>3} '****')\\n\" .format(r))\n",
    "        print(newton_r(r, 10, 3))\n",
    "    print('\\n\\n\\n********************************Changing list********************************')"
   ]
  },
  {
   "cell_type": "code",
   "execution_count": null,
   "metadata": {
    "collapsed": false
   },
   "outputs": [],
   "source": []
  },
  {
   "cell_type": "code",
   "execution_count": null,
   "metadata": {
    "collapsed": true
   },
   "outputs": [],
   "source": []
  }
 ],
 "metadata": {
  "kernelspec": {
   "display_name": "Python 3",
   "language": "python",
   "name": "python3"
  },
  "language_info": {
   "codemirror_mode": {
    "name": "ipython",
    "version": 3
   },
   "file_extension": ".py",
   "mimetype": "text/x-python",
   "name": "python",
   "nbconvert_exporter": "python",
   "pygments_lexer": "ipython3",
   "version": "3.6.0"
  }
 },
 "nbformat": 4,
 "nbformat_minor": 2
}
