{
 "cells": [
  {
   "cell_type": "markdown",
   "metadata": {},
   "source": [
    "# Generate Cubic Smooth Spline for approximation"
   ]
  },
  {
   "cell_type": "markdown",
   "metadata": {},
   "source": [
    "Aim: To use the given data and generate a continuous clamped cubic spline"
   ]
  },
  {
   "cell_type": "code",
   "execution_count": 1,
   "metadata": {
    "collapsed": true
   },
   "outputs": [],
   "source": [
    "'''\n",
    "Data in form of 3 separate set of lists\n",
    "'''\n",
    "\n",
    "x1 = [1,2,5,6,7,8,10,13,17]\n",
    "y1 = [3.0,3.7,3.9,4.2,5.7,6.6, 7.1, 6.7, 4.5]\n",
    "\n",
    "x2 = [17, 20, 23, 24, 25, 27, 27.7]\n",
    "y2 = [4.5, 7.0, 6.1, 5.6, 5.8, 5.2, 4.1]\n",
    "\n",
    "x3 = [27.7, 28, 29, 30]\n",
    "y3 = [4.1 , 4.3, 4.1, 3.0]"
   ]
  },
  {
   "cell_type": "markdown",
   "metadata": {},
   "source": [
    "# Spline Functions"
   ]
  },
  {
   "cell_type": "code",
   "execution_count": 6,
   "metadata": {
    "collapsed": false
   },
   "outputs": [
    {
     "name": "stdout",
     "output_type": "stream",
     "text": [
      "Populating the interactive namespace from numpy and matplotlib\n"
     ]
    }
   ],
   "source": [
    "import numpy as np\n",
    "import matplotlib.pyplot as plt\n",
    "%matplotlib inline\n",
    "%pylab inline\n",
    "\n",
    "def Splines(X, Y):\n",
    "#     X,Y = zip(*data)\n",
    "    np1=len(X)\n",
    "    n=np1-1\n",
    "    X = [float(x) for x in X]\n",
    "    Y = [float(y) for y in Y]\n",
    "    a = Y[:]\n",
    "    b = [0.0]*(n)\n",
    "    d = [0.0]*(n)\n",
    "    h = [X[i+1]-X[i] for i in range(n)]\n",
    "    alpha = [0.0]*n\n",
    "    for i in range(1,n):\n",
    "        alpha[i] = 3/h[i]*(a[i+1]-a[i]) - 3/h[i-1]*(a[i]-a[i-1])\n",
    "    c = [0.0]*np1\n",
    "    L = [0.0]*np1\n",
    "    u = [0.0]*np1\n",
    "    z = [0.0]*np1\n",
    "    L[0] = 1.0\n",
    "    u[0] = 0.0\n",
    "    z[0] = 0.0\n",
    "    for i in range(1,n):\n",
    "        L[i] = 2*(X[i+1]-X[i-1]) - h[i-1]*u[i-1]\n",
    "        u[i] = h[i]/L[i]\n",
    "        z[i] = (alpha[i]-h[i-1]*z[i-1])/L[i]\n",
    "    L[n] = 1.0; z[n] = c[n] = 0.0\n",
    "    for j in range(n-1, -1, -1):\n",
    "        c[j] = z[j] - u[j]*c[j+1]\n",
    "        b[j] = (a[j+1]-a[j])/h[j] - (h[j]*(c[j+1]+2*c[j]))/3\n",
    "        d[j] = (c[j+1]-c[j])/(3*h[j])\n",
    "    splines = []\n",
    "    for i in range(n):\n",
    "        splines.append((a[i],b[i],c[i],d[i],X[i]))\n",
    "    return splines,X[n]"
   ]
  },
  {
   "cell_type": "markdown",
   "metadata": {},
   "source": [
    "# Get Continuous points and plot the spline"
   ]
  },
  {
   "cell_type": "code",
   "execution_count": 7,
   "metadata": {
    "collapsed": false
   },
   "outputs": [
    {
     "data": {
      "image/png": "[encoded data removed]",
      "text/plain": [
       "<matplotlib.figure.Figure at 0x1098b3da0>"
      ]
     },
     "metadata": {},
     "output_type": "display_data"
    }
   ],
   "source": [
    "def splinesToPlot(splines,xn,res = 200):\n",
    "    n=len(splines)\n",
    "    perSpline = int(res/n)\n",
    "    if perSpline < 3: perSpline = 3\n",
    "    X=[]\n",
    "    Y=[]\n",
    "    for i in range(n-1):\n",
    "        S = splines[i]\n",
    "        x0 = S[4]\n",
    "        x1 = splines[i+1][4]\n",
    "        x = np.linspace(x0,x1,perSpline)\n",
    "        for xi in x:\n",
    "            X.append(xi)\n",
    "            h=(xi-S[4])\n",
    "            Y.append(S[0]+S[1]*h + S[2]*h**2 + S[3]*h**3)\n",
    "    S=splines[n-1]\n",
    "    x=np.linspace(S[4],xn,perSpline)\n",
    "    for xi in x:\n",
    "        X.append(xi)\n",
    "        h=(xi-S[4])\n",
    "        Y.append(S[0]+S[1]*h + S[2]*h**2 + S[3]*h**3)\n",
    "    \n",
    "    return X,Y\n",
    "\n",
    "splines1, xn1 = Splines(x1, y1)\n",
    "splines2, xn2 = Splines(x2, y2)\n",
    "splines3, xn3 = Splines(x3, y3)\n",
    "\n",
    "X1,Y1 = splinesToPlot(splines1, xn1)\n",
    "X2,Y2 = splinesToPlot(splines2, xn2)\n",
    "X3,Y3 = splinesToPlot(splines3, xn3)\n",
    "\n",
    "\n",
    "# plotting the results\n",
    "pylab.rcParams['figure.figsize'] = (12, 4)\n",
    "\n",
    "# plt.ion()\n",
    "plt.plot(X1,Y1,'g--')\n",
    "plt.plot(x1,y1,'o')\n",
    "plt.plot(X2,Y2,'r--')\n",
    "plt.plot(x2,y2,'o')\n",
    "plt.plot(X3,Y3,'b--')\n",
    "plt.plot(x3,y3,'o')\n",
    "plt.show()"
   ]
  }
 ],
 "metadata": {
  "kernelspec": {
   "display_name": "Python 3",
   "language": "python",
   "name": "python3"
  },
  "language_info": {
   "codemirror_mode": {
    "name": "ipython",
    "version": 3
   },
   "file_extension": ".py",
   "mimetype": "text/x-python",
   "name": "python",
   "nbconvert_exporter": "python",
   "pygments_lexer": "ipython3",
   "version": "3.6.0"
  }
 },
 "nbformat": 4,
 "nbformat_minor": 2
}
