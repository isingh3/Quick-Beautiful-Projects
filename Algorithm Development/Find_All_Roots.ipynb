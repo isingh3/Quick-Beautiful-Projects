{
 "cells": [
  {
   "cell_type": "markdown",
   "metadata": {},
   "source": [
    "# Find All Posible Roots of a N-th order polynomial by Combining Honer's and Muller's Method\n",
    "\n",
    "### Why find root of a function?\n",
    "A root of the polynomial p is a solution of the equation p = 0: that is, a complex number a such that p(a) = 0."
   ]
  },
  {
   "cell_type": "code",
   "execution_count": 1,
   "metadata": {
    "collapsed": true
   },
   "outputs": [],
   "source": [
    "# Importing Dependencies\n",
    "import numpy as np\n",
    "\n",
    "# A list to store all roots for a polynomial!\n",
    "roots = []"
   ]
  },
  {
   "cell_type": "markdown",
   "metadata": {},
   "source": [
    "## Hornor's Algorithm\n",
    "\n",
    "Implemented the modified horner's algorithm by taking off a root from the polynomial at each iteration\n",
    "\n",
    "Read About Horner's Method [Here](https://en.wikipedia.org/wiki/Horner%27s_method)"
   ]
  },
  {
   "cell_type": "code",
   "execution_count": 2,
   "metadata": {
    "collapsed": true
   },
   "outputs": [],
   "source": [
    "def horners_algo(x, for_eq):\n",
    "    '''\n",
    "    for_eq: : parameter for polynom function\n",
    "    returns: A polynomial of (n-1) order\n",
    "    '''\n",
    "    poly = polynom(x, selection= for_eq)\n",
    "    for r in roots:\n",
    "        denominator = x - r\n",
    "        while (abs(denominator) < 1e-8):  # Edge case: avoid division by a 0\n",
    "            denominator += 1.0e-8\n",
    "        poly = poly / denominator\n",
    "    return poly"
   ]
  },
  {
   "cell_type": "markdown",
   "metadata": {},
   "source": [
    "## Muller's Algorithm\n",
    "\n",
    "Implemented the muler's algorithm to in a iterative scheme to find all the roots of a polynomial.\n",
    "\n",
    "Read About Muller's Method [Here](https://en.wikipedia.org/wiki/Muller%27s_method)"
   ]
  },
  {
   "cell_type": "code",
   "execution_count": 3,
   "metadata": {
    "collapsed": true
   },
   "outputs": [],
   "source": [
    "def muller_algo(for_eq, guesses, iteration = 100, tol = 0.00000001, poly_degree= 1, round_off = False):\n",
    "    \n",
    "    '''\n",
    "    roots finding with parm description:\n",
    "    for_eq: parameter for polynom function\n",
    "    guesses: the initial random guess [a,b,c]\n",
    "    iteration = 100 \n",
    "    tol = 0.00000001: the threshold tolerance \n",
    "    poly_degree= 1: degree of polynomial to extract roots = degree of polynomial\n",
    "    round_off: If exact root is required set it to True\n",
    "    \n",
    "    returns: Root\n",
    "    ''' \n",
    "    \n",
    "    for i in range(poly_degree):\n",
    "        guess = np.array([guesses[0], guesses[1], guesses[2]], dtype=complex)\n",
    "        y_values = np.array([horners_algo(x, for_eq) for x in guess], dtype=complex)\n",
    "        \n",
    "        h = guess[2] - guess[1]\n",
    "        q = h/(guess[1] - guess[0])\n",
    "        \n",
    "        for j in range(iteration):\n",
    "            A = q*y_values[2] - q*(1+q)*y_values[1] + q**2*y_values[0]\n",
    "            B = (2*q+1) * y_values[2] - (1+q)**2*y_values[1] + q**2 * y_values[0]\n",
    "            C = (1+q)*y_values[2]\n",
    "            Q = np.sqrt(B**2 - 4*A*C)\n",
    "            D = B + Q\n",
    "            E = B - Q\n",
    "            if np.abs(D) < np.abs(E):\n",
    "                D = E\n",
    "            guess[0] = guess[1]\n",
    "            guess[1] = guess[2]\n",
    "            y_values[0] = y_values[1]\n",
    "            y_values[1] = y_values[2]\n",
    "            \n",
    "            q = -2.0 * C/D\n",
    "            h *= q\n",
    "            guess[2] += h\n",
    "            absf = 100. * abs(y_values[2])\n",
    "            while True:\n",
    "                y_values[2] = horners_algo(guess[2], for_eq)\n",
    "                if abs(y_values[2]) < absf:\n",
    "                    break\n",
    "                guess[2] -= h\n",
    "                h *= 0.5\n",
    "                guess[2] += h\n",
    "            if (abs(polynom(guess[2], for_eq)) <= tol or abs(h) <= tol):\n",
    "                break\n",
    "        if round_off is False:\n",
    "            roots.append(guess[2])\n",
    "        else:\n",
    "            roots.append(round(guess[2]))\n",
    "    return roots"
   ]
  },
  {
   "cell_type": "markdown",
   "metadata": {},
   "source": [
    "## Polynomial\n",
    "\n",
    "\n",
    "Lets Define a common function containing Polynomial equations and their derivates. Further we will use these function and call the cobined Horners method defined above to get all possible roots.\n",
    "\n",
    "* The second and third equation is interesting and defines that a small diference in the coefiicient can make a significant difference in results."
   ]
  },
  {
   "cell_type": "code",
   "execution_count": 4,
   "metadata": {
    "collapsed": false
   },
   "outputs": [],
   "source": [
    "# to store all the roots!\n",
    "def polynom(x, selection = 1):\n",
    "    '''\n",
    "    x: guess value\n",
    "    selection: select the equation for root finding (1 is default value of selection)\n",
    "    '''\n",
    "    \n",
    "    # to stop if int is not provided\n",
    "    assert int(selection)\n",
    "    \n",
    "    if selection == 1:\n",
    "        return x**4 - 1\n",
    "    elif selection == 2:\n",
    "        return x**5 - 5*x**4 - 8*x**3 + 40*x**2 - 9*x + 45\n",
    "    else:\n",
    "        return 1.1*x**5 - 5*x**4 - 8*x**3 + 40*x**2 - 9*x + 45\n",
    "    \n",
    "def polynom_prime(x, selection):\n",
    "    '''\n",
    "    x: guess value\n",
    "    selection: select the equation for root finding\n",
    "    '''\n",
    "    \n",
    "    # to stop if int is not provided\n",
    "    assert int(selection)\n",
    "    \n",
    "    if selection == 1:\n",
    "        return 4*x**3\n",
    "    elif selection == 2:\n",
    "        return 5*x**4 - 5*4*x**3 - 8*3*x**2 +40*2*x - 9\n",
    "    else: \n",
    "        return 1.1* 5*x**4 - 5*4*x**3 - 8*3*x**2 +40*2*x - 9"
   ]
  },
  {
   "cell_type": "code",
   "execution_count": 5,
   "metadata": {
    "collapsed": false
   },
   "outputs": [
    {
     "name": "stdout",
     "output_type": "stream",
     "text": [
      "Approximate Roots fo rthe equation: `x**4 - 1` are\n",
      " => [(1+0j), (1+0j), (1+0j), (1+0j)]\n"
     ]
    }
   ],
   "source": [
    "# to re initialize roots list to empty!\n",
    "roots = []\n",
    "# guesses\n",
    "guess = [0, 1, 2]\n",
    "\n",
    "print('Approximate Roots fo rthe equation: `x**4 - 1` are\\n =>', \n",
    "      muller_algo(for_eq = 1, guesses=guess, poly_degree= 4))"
   ]
  },
  {
   "cell_type": "code",
   "execution_count": 6,
   "metadata": {
    "collapsed": false
   },
   "outputs": [
    {
     "name": "stdout",
     "output_type": "stream",
     "text": [
      "Approximate Roots for the equation: `x**5 - 5*x**4 - 8*x**3 + 40*x**2 - 9*x + 45` are\n",
      " => [(1.8040141094308122e-13-0.99999999999997125j), (4.0948721786569537e-14+1.0000000000000018j), (2.9999999999668674-1.2380873493843361e-22j), (-3-5.7064557053005134e-24j), (5.0000000000000009-9.6824358366494549e-23j)]\n"
     ]
    }
   ],
   "source": [
    "# to re initialize roots list to empty!\n",
    "roots = []\n",
    "# guesses\n",
    "guess = [0, 1.77, 1]\n",
    "\n",
    "print('Approximate Roots for the equation: `x**5 - 5*x**4 - 8*x**3 + 40*x**2 - 9*x + 45` are\\n =>', \n",
    "      muller_algo(for_eq = 2, guesses=guess, poly_degree= 5))"
   ]
  },
  {
   "cell_type": "code",
   "execution_count": 7,
   "metadata": {
    "collapsed": false
   },
   "outputs": [
    {
     "name": "stdout",
     "output_type": "stream",
     "text": [
      "Exact Roots for the equation: `1.1*x**5 - 5*x**4 - 8*x**3 + 40*x**2 - 9*x + 45` are\n",
      " => [(-0.00095977384355975073-0.99980399600957925j), (-2.9512718191699325+5.7639715682251426e-12j), (-0.00095977387328752143+0.99980399606237758j), (3.312874116599867-6.0517877782874903e-20j), (4.1857717957082219-9.2919783147495827e-21j)]\n"
     ]
    }
   ],
   "source": [
    "# to re initialize roots list to empty!\n",
    "roots = []\n",
    "\n",
    "# guesses\n",
    "guess = [-1, 1.77, -8]\n",
    "\n",
    "print('Exact Roots for the equation: `1.1*x**5 - 5*x**4 - 8*x**3 + 40*x**2 - 9*x + 45` are\\n =>', \n",
    "      muller_algo(for_eq = 3, guesses=guess, poly_degree= 5))"
   ]
  },
  {
   "cell_type": "markdown",
   "metadata": {},
   "source": [
    "## Getting Exact Root by rounding off the approximated roots"
   ]
  },
  {
   "cell_type": "code",
   "execution_count": 8,
   "metadata": {
    "collapsed": false
   },
   "outputs": [
    {
     "name": "stdout",
     "output_type": "stream",
     "text": [
      "Roots fo rthe equation: `1.1*x**5 - 5*x**4 - 8*x**3 + 40*x**2 - 9*x + 45` are\n",
      " => [(-0-1j), (-3+0j), (-0+1j), (3+0j), (4+0j)]\n"
     ]
    }
   ],
   "source": [
    "# to re initialize roots list to empty!\n",
    "roots = []\n",
    "\n",
    "# guesses\n",
    "guess = [-1, 1.77, -8]\n",
    "\n",
    "print('Roots fo rthe equation: `1.1*x**5 - 5*x**4 - 8*x**3 + 40*x**2 - 9*x + 45` are\\n =>', \n",
    "      muller_algo(for_eq = 3, guesses=guess, poly_degree= 5, round_off= True))"
   ]
  }
 ],
 "metadata": {
  "kernelspec": {
   "display_name": "Python 3",
   "language": "python",
   "name": "python3"
  },
  "language_info": {
   "codemirror_mode": {
    "name": "ipython",
    "version": 3
   },
   "file_extension": ".py",
   "mimetype": "text/x-python",
   "name": "python",
   "nbconvert_exporter": "python",
   "pygments_lexer": "ipython3",
   "version": "3.6.0"
  }
 },
 "nbformat": 4,
 "nbformat_minor": 2
}
