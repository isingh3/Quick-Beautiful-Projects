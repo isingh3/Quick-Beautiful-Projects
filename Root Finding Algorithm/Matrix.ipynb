{
 "cells": [
  {
   "cell_type": "code",
   "execution_count": 1,
   "metadata": {
    "collapsed": true
   },
   "outputs": [],
   "source": [
    "# http://thelaziestprogrammer.com/sharrington/math-of-machine-learning/solving-logreg-newtons-method"
   ]
  },
  {
   "cell_type": "code",
   "execution_count": 49,
   "metadata": {
    "collapsed": false
   },
   "outputs": [
    {
     "data": {
      "text/html": [
       "<div>\n",
       "<table border=\"1\" class=\"dataframe\">\n",
       "  <thead>\n",
       "    <tr style=\"text-align: right;\">\n",
       "      <th></th>\n",
       "      <th>age</th>\n",
       "      <th>job</th>\n",
       "      <th>marital</th>\n",
       "      <th>education</th>\n",
       "      <th>default</th>\n",
       "      <th>housing</th>\n",
       "      <th>loan</th>\n",
       "      <th>contact</th>\n",
       "      <th>month</th>\n",
       "      <th>day_of_week</th>\n",
       "      <th>duration</th>\n",
       "      <th>campaign</th>\n",
       "      <th>pdays</th>\n",
       "      <th>previous</th>\n",
       "      <th>poutcome</th>\n",
       "      <th>emp_var_rate</th>\n",
       "      <th>cons_price_idx</th>\n",
       "      <th>cons_conf_idx</th>\n",
       "      <th>euribor3m</th>\n",
       "      <th>nr_employed</th>\n",
       "      <th>y</th>\n",
       "    </tr>\n",
       "  </thead>\n",
       "  <tbody>\n",
       "    <tr>\n",
       "      <th>0</th>\n",
       "      <td>44</td>\n",
       "      <td>blue-collar</td>\n",
       "      <td>married</td>\n",
       "      <td>basic.4y</td>\n",
       "      <td>unknown</td>\n",
       "      <td>yes</td>\n",
       "      <td>no</td>\n",
       "      <td>cellular</td>\n",
       "      <td>aug</td>\n",
       "      <td>thu</td>\n",
       "      <td>210</td>\n",
       "      <td>1</td>\n",
       "      <td>999</td>\n",
       "      <td>0</td>\n",
       "      <td>nonexistent</td>\n",
       "      <td>1.4</td>\n",
       "      <td>93.444</td>\n",
       "      <td>-36.1</td>\n",
       "      <td>4.963</td>\n",
       "      <td>5228.1</td>\n",
       "      <td>0</td>\n",
       "    </tr>\n",
       "    <tr>\n",
       "      <th>1</th>\n",
       "      <td>53</td>\n",
       "      <td>technician</td>\n",
       "      <td>married</td>\n",
       "      <td>unknown</td>\n",
       "      <td>no</td>\n",
       "      <td>no</td>\n",
       "      <td>no</td>\n",
       "      <td>cellular</td>\n",
       "      <td>nov</td>\n",
       "      <td>fri</td>\n",
       "      <td>138</td>\n",
       "      <td>1</td>\n",
       "      <td>999</td>\n",
       "      <td>0</td>\n",
       "      <td>nonexistent</td>\n",
       "      <td>-0.1</td>\n",
       "      <td>93.200</td>\n",
       "      <td>-42.0</td>\n",
       "      <td>4.021</td>\n",
       "      <td>5195.8</td>\n",
       "      <td>0</td>\n",
       "    </tr>\n",
       "    <tr>\n",
       "      <th>2</th>\n",
       "      <td>28</td>\n",
       "      <td>management</td>\n",
       "      <td>single</td>\n",
       "      <td>university.degree</td>\n",
       "      <td>no</td>\n",
       "      <td>yes</td>\n",
       "      <td>no</td>\n",
       "      <td>cellular</td>\n",
       "      <td>jun</td>\n",
       "      <td>thu</td>\n",
       "      <td>339</td>\n",
       "      <td>3</td>\n",
       "      <td>6</td>\n",
       "      <td>2</td>\n",
       "      <td>success</td>\n",
       "      <td>-1.7</td>\n",
       "      <td>94.055</td>\n",
       "      <td>-39.8</td>\n",
       "      <td>0.729</td>\n",
       "      <td>4991.6</td>\n",
       "      <td>1</td>\n",
       "    </tr>\n",
       "    <tr>\n",
       "      <th>3</th>\n",
       "      <td>39</td>\n",
       "      <td>services</td>\n",
       "      <td>married</td>\n",
       "      <td>high.school</td>\n",
       "      <td>no</td>\n",
       "      <td>no</td>\n",
       "      <td>no</td>\n",
       "      <td>cellular</td>\n",
       "      <td>apr</td>\n",
       "      <td>fri</td>\n",
       "      <td>185</td>\n",
       "      <td>2</td>\n",
       "      <td>999</td>\n",
       "      <td>0</td>\n",
       "      <td>nonexistent</td>\n",
       "      <td>-1.8</td>\n",
       "      <td>93.075</td>\n",
       "      <td>-47.1</td>\n",
       "      <td>1.405</td>\n",
       "      <td>5099.1</td>\n",
       "      <td>0</td>\n",
       "    </tr>\n",
       "    <tr>\n",
       "      <th>4</th>\n",
       "      <td>55</td>\n",
       "      <td>retired</td>\n",
       "      <td>married</td>\n",
       "      <td>basic.4y</td>\n",
       "      <td>no</td>\n",
       "      <td>yes</td>\n",
       "      <td>no</td>\n",
       "      <td>cellular</td>\n",
       "      <td>aug</td>\n",
       "      <td>fri</td>\n",
       "      <td>137</td>\n",
       "      <td>1</td>\n",
       "      <td>3</td>\n",
       "      <td>1</td>\n",
       "      <td>success</td>\n",
       "      <td>-2.9</td>\n",
       "      <td>92.201</td>\n",
       "      <td>-31.4</td>\n",
       "      <td>0.869</td>\n",
       "      <td>5076.2</td>\n",
       "      <td>1</td>\n",
       "    </tr>\n",
       "  </tbody>\n",
       "</table>\n",
       "</div>"
      ],
      "text/plain": [
       "   age          job  marital          education  default housing loan  \\\n",
       "0   44  blue-collar  married           basic.4y  unknown     yes   no   \n",
       "1   53   technician  married            unknown       no      no   no   \n",
       "2   28   management   single  university.degree       no     yes   no   \n",
       "3   39     services  married        high.school       no      no   no   \n",
       "4   55      retired  married           basic.4y       no     yes   no   \n",
       "\n",
       "    contact month day_of_week  duration  campaign  pdays  previous  \\\n",
       "0  cellular   aug         thu       210         1    999         0   \n",
       "1  cellular   nov         fri       138         1    999         0   \n",
       "2  cellular   jun         thu       339         3      6         2   \n",
       "3  cellular   apr         fri       185         2    999         0   \n",
       "4  cellular   aug         fri       137         1      3         1   \n",
       "\n",
       "      poutcome  emp_var_rate  cons_price_idx  cons_conf_idx  euribor3m  \\\n",
       "0  nonexistent           1.4          93.444          -36.1      4.963   \n",
       "1  nonexistent          -0.1          93.200          -42.0      4.021   \n",
       "2      success          -1.7          94.055          -39.8      0.729   \n",
       "3  nonexistent          -1.8          93.075          -47.1      1.405   \n",
       "4      success          -2.9          92.201          -31.4      0.869   \n",
       "\n",
       "   nr_employed  y  \n",
       "0       5228.1  0  \n",
       "1       5195.8  0  \n",
       "2       4991.6  1  \n",
       "3       5099.1  0  \n",
       "4       5076.2  1  "
      ]
     },
     "execution_count": 49,
     "metadata": {},
     "output_type": "execute_result"
    }
   ],
   "source": [
    "import pandas as pd\n",
    "import numpy as np\n",
    "\n",
    "df = pd.read_csv(\"https://raw.githubusercontent.com/madmashup/targeted-marketing-predictive-engine/master/banking.csv\")\n",
    "ncol = df.shape[1]\n",
    "pd.set_option('display.max_columns', ncol)\n",
    "df.head()"
   ]
  },
  {
   "cell_type": "code",
   "execution_count": 52,
   "metadata": {
    "collapsed": false
   },
   "outputs": [],
   "source": [
    "'''\n",
    "Label Encoding changes the other than numeric data to numeric or, lets say categorical to numerical category\n",
    "'''\n",
    "from sklearn.preprocessing import LabelEncoder\n",
    "le = LabelEncoder()\n",
    "\n",
    "# these are the columns of data that need to be transformed\n",
    "columns_to_encode = ['job', 'marital', 'education', 'default', 'housing', 'loan', 'contact','month',\n",
    "                    'day_of_week', 'poutcome']\n",
    "\n",
    "# the lop that reads the column names in the list above and one by one transforms them.\n",
    "for c in columns_to_encode:\n",
    "    le.fit(df[c])\n",
    "    df[c] = le.transform(df[c])\n",
    "\n",
    "# createing X and y variable and deleting the y variable from the actual dataset    \n",
    "y = df.y\n",
    "X = df.drop(['y'], axis=1)\n",
    "\n",
    "'''\n",
    "This creates a random sampled split of the dataset from training the algorithm and \n",
    "then testing it on the test set.\n",
    "'''\n",
    "\n",
    "from sklearn.model_selection import train_test_split\n",
    "\n",
    "# the split percentage is train: 85% and test: 15%\n",
    "X_train, X_test, y_train, y_test = train_test_split(X,y, test_size = 0.85)\n",
    "X_train.shape, X_test.shape, y_train.shape, y_test.shape"
   ]
  },
  {
   "cell_type": "code",
   "execution_count": 120,
   "metadata": {
    "collapsed": true
   },
   "outputs": [],
   "source": [
    "# defining sigmoid function\n",
    "'''\n",
    "* It takes any number which is a real number and transfors it to a new number between 0 and 1\n",
    "x: linear combination [vector]\n",
    "'''\n",
    "\n",
    "# input a linear combination in this and its output goes in log likelyhoos function\n",
    "def sigmoid(x):\n",
    "#     res = np.dot(x_train, w)\n",
    "    return 1.0/(1.0+ np.exp(-x))"
   ]
  },
  {
   "cell_type": "code",
   "execution_count": 78,
   "metadata": {
    "collapsed": false
   },
   "outputs": [],
   "source": [
    "# log likelyhood\n",
    "'''\n",
    "x: linear combination [vector]\n",
    "y: actual value for the feature's linear combination of x vector.\n",
    "'''\n",
    "\n",
    "# log _likely = yilog(hθ(xi))+(1−yi)log(1−hθ(xi))\n",
    "# hθ(xi) = sig_probability\n",
    "\n",
    "def log_likely(y, x, w):\n",
    "    sig_probability = sigmoid(x, w) \n",
    "    log_like = np.sum(y * np.log(sig_probability) + (1 - y) * np.log(1 - sig_probability))\n",
    "    return log_like"
   ]
  },
  {
   "cell_type": "code",
   "execution_count": 27,
   "metadata": {
    "collapsed": true
   },
   "outputs": [],
   "source": [
    "'''\n",
    "mat: matrix to be inverted\n",
    "'''\n",
    "def matrix_inverse(mat):\n",
    "    return np.linalg.inv(mat)"
   ]
  },
  {
   "cell_type": "code",
   "execution_count": 98,
   "metadata": {
    "collapsed": false
   },
   "outputs": [],
   "source": [
    "'''\n",
    "x: linear combination [vector]\n",
    "y: actual value for the feature's linear combination of x vector.\n",
    "'''\n",
    "def gradient(x, w, y):                                                         \n",
    "    sigmoid_probs = sigmoid(x, w)\n",
    "    return np.array([[np.sum(x.T * (y - sigmoid_probs)), np.sum((y - sigmoid_probs) * 1)]])"
   ]
  },
  {
   "cell_type": "code",
   "execution_count": 99,
   "metadata": {
    "collapsed": true
   },
   "outputs": [],
   "source": [
    "'''\n",
    "x: Matrix of weights of features\n",
    "'''\n",
    "\n",
    "def hessian(x):\n",
    "    \"\"\"\n",
    "    Calculate the hessian matrix with finite differences\n",
    "    Parameters:\n",
    "       - x : ndarray\n",
    "    Returns:\n",
    "       an array of shape (x.dim, x.ndim) + x.shape\n",
    "       where the array[i, j, ...] corresponds to the second derivative x_ij\n",
    "    \"\"\"\n",
    "    \n",
    "    x_grad = np.gradient(x) \n",
    "    hessian = np.empty((x.ndim, x.ndim) + x.shape, dtype=x.dtype) \n",
    "    for k, grad_k in enumerate(x_grad):\n",
    "        # iterate over dimensions\n",
    "        # apply gradient again to every component of the first derivative.\n",
    "        tmp_grad = np.gradient(grad_k) \n",
    "        for l, grad_kl in enumerate(tmp_grad):\n",
    "            hessian[k, l, :, :] = grad_kl\n",
    "    return hessian"
   ]
  },
  {
   "cell_type": "code",
   "execution_count": null,
   "metadata": {
    "collapsed": true
   },
   "outputs": [],
   "source": [
    "# sigmoid\n",
    "sigmoid <- function(x){\n",
    "  1/(1+exp(-x))\n",
    "}\n",
    "\n",
    "# cost function\n",
    "compCost <- function(theta, X, y){\n",
    "  # X%*%theta in this given example is a 100x1 column vector\n",
    "  J <- (-1/m)*sum(y*log(sigmoid(X%*%theta)) + (1-y)*log(1-sigmoid(X%*%theta)))\n",
    "  return(J)\n",
    "}\n",
    "\n",
    "newton <- function(X, y, theta, num_iter){\n",
    "  library(numDeriv)\n",
    "  library(MASS)\n",
    "  J_hist<-vector()\n",
    "  # the loop for the iterative process\n",
    "  for(i in 1:num_iter){\n",
    "    grad <- (1/m)*(t(X)%*%(sigmoid(X%*%theta) - y)) \n",
    "    H <- hessian(compCost, theta, method = \"complex\", X = X, y = y)\n",
    "    # an alternative way to calculate the Hessian's matrix is to use the `jacobian` function\n",
    "    # in regarding to grad. Because the Hessian's matrix is the Jacobian matrix of the gradient\n",
    "    # (first partial derivative).\n",
    "    \n",
    "    theta <- theta - ginv(H)%*%grad\n",
    "    J_hist[i] <- compCost(theta, X, y)\n",
    "  }\n",
    "  result <- list(theta, J_hist)\n",
    "  return(result)\n",
    "}\n",
    "\n",
    "\n",
    "num_iter = 10\n",
    "result <- newton(X, y, theta, num_iter)\n",
    "theta <- result[[1]]\n",
    "print(theta)\n"
   ]
  },
  {
   "cell_type": "code",
   "execution_count": 54,
   "metadata": {
    "collapsed": false
   },
   "outputs": [],
   "source": [
    "# Model:\n",
    "coef = np.zeros(20)\n",
    "x = np.linspace(-2, 2, 100)"
   ]
  },
  {
   "cell_type": "code",
   "execution_count": 58,
   "metadata": {
    "collapsed": false
   },
   "outputs": [
    {
     "name": "stdout",
     "output_type": "stream",
     "text": [
      "Collecting numdifftools\n",
      "  Downloading numdifftools-0.9.20-py2.py3-none-any.whl (3.2MB)\n",
      "\u001b[K    100% |████████████████████████████████| 3.2MB 144kB/s eta 0:00:01\n",
      "\u001b[?25hRequirement already satisfied: scipy>=0.8 in /Users/ishansingh/anaconda/lib/python3.6/site-packages (from numdifftools)\n",
      "Collecting algopy>=0.4 (from numdifftools)\n",
      "  Downloading algopy-0.5.5.zip (189kB)\n",
      "\u001b[K    100% |████████████████████████████████| 194kB 2.5MB/s eta 0:00:01\n",
      "\u001b[?25hRequirement already satisfied: numpy>=1.9 in /Users/ishansingh/anaconda/lib/python3.6/site-packages (from numdifftools)\n",
      "Requirement already satisfied: setuptools>=9.0 in /Users/ishansingh/anaconda/lib/python3.6/site-packages (from numdifftools)\n",
      "Building wheels for collected packages: algopy\n",
      "  Running setup.py bdist_wheel for algopy ... \u001b[?25l-\b \b\\\b \b|\b \b/\b \bdone\n",
      "\u001b[?25h  Stored in directory: /Users/ishansingh/Library/Caches/pip/wheels/6d/84/41/a6dbdd08b74835e79671c1cae2c67d157a4e9b57d60770f15a\n",
      "Successfully built algopy\n",
      "Installing collected packages: algopy, numdifftools\n",
      "Successfully installed algopy-0.5.5 numdifftools-0.9.20\n"
     ]
    }
   ],
   "source": [
    "! pip install numdifftools\n",
    "import numdifftools as nd"
   ]
  },
  {
   "cell_type": "code",
   "execution_count": 123,
   "metadata": {
    "collapsed": false
   },
   "outputs": [],
   "source": [
    "x_train = X_train.as_matrix()\n",
    "y = y_train.as_matrix()\n",
    "w = np.zeros(20)\n",
    "# sigmoid(x_train, w)"
   ]
  },
  {
   "cell_type": "code",
   "execution_count": 106,
   "metadata": {
    "collapsed": false
   },
   "outputs": [],
   "source": [
    "l_l = log_likely(y, x_train, w)\n",
    "g = gradient(x_train, w, y)\n",
    "h = hessian(x_train)"
   ]
  },
  {
   "cell_type": "code",
   "execution_count": 185,
   "metadata": {
    "collapsed": false
   },
   "outputs": [],
   "source": [
    "\n",
    "def newton_step(curr, X, lam=None):\n",
    "    '''One naive step of Newton's Method'''\n",
    "    \n",
    "    #how to compute inverse? http://www.mathwarehouse.com/algebra/matrix/images/square-matrix/inverse-matrix.gif\n",
    "    \n",
    "    ## compute necessary objects\n",
    "    #create probability matrix, miniminum 2 dimensions, tranpose (flip it)\n",
    "    p = np.array(sigmoid(X.dot(curr[:,0])), ndmin=2).T\n",
    "    #create weight matrix from it\n",
    "    W = np.diag((p*(1-p))[:,0])\n",
    "    #derive the hessian \n",
    "    hessian = X.T.dot(W).dot(X)\n",
    "    #derive the gradient\n",
    "    grad = X.T.dot(y-p)\n",
    "    \n",
    "    ## regularization step (avoiding overfitting)\n",
    "    if lam:\n",
    "        # Return the least-squares solution to a linear matrix equation\n",
    "        step, *_ = np.linalg.lstsq(hessian + lam*np.eye(curr.shape[0]), grad)\n",
    "    else:\n",
    "        step, *_ = np.linalg.lstsq(hessian, grad)\n",
    "        \n",
    "    ## update our \n",
    "    beta = curr + step\n",
    "    \n",
    "    return beta\n",
    "\n",
    "def check_coefs_convergence(beta_old, beta_new, tol, iters):\n",
    "    '''Checks whether the coefficients have converged in the l-infinity norm.\n",
    "    Returns True if they have converged, False otherwise.'''\n",
    "    #calculate the change in the coefficients\n",
    "    coef_change = np.abs(beta_old - beta_new)\n",
    "    \n",
    "    #if change hasn't reached the threshold and we have more iterations to go, keep training\n",
    "    return not (np.any(coef_change>tol) & (iters < max_iter))"
   ]
  },
  {
   "cell_type": "code",
   "execution_count": 188,
   "metadata": {
    "collapsed": false
   },
   "outputs": [
    {
     "name": "stdout",
     "output_type": "stream",
     "text": [
      "Iterations : 10\n",
      "Beta : [[ -1.26226877e-05  -1.26226877e-05  -1.26226877e-05 ...,  -1.26226877e-05\n",
      "   -1.26226877e-05  -1.26226878e-05]\n",
      " [ -6.11057317e-05  -6.11057317e-05  -6.11057317e-05 ...,  -6.11057317e-05\n",
      "   -6.11057317e-05  -6.11057317e-05]\n",
      " [  3.64441094e-04   3.64441094e-04   3.64441094e-04 ...,   3.64441094e-04\n",
      "    3.64441094e-04   3.64441094e-04]\n",
      " ..., \n",
      " [ -3.92116648e-03  -3.92116648e-03  -3.92116648e-03 ...,  -3.92116648e-03\n",
      "   -3.92116648e-03  -3.92116648e-03]\n",
      " [  4.35610582e-02   4.35610582e-02   4.35610582e-02 ...,   4.35610582e-02\n",
      "    4.35610582e-02   4.35610582e-02]\n",
      " [ -1.05358527e-03  -1.05358527e-03  -1.05358527e-03 ...,  -1.05358527e-03\n",
      "   -1.05358527e-03  -1.05358527e-03]]\n"
     ]
    }
   ],
   "source": [
    "## initial conditions\n",
    "tol=1e-8\n",
    "max_iter = 10\n",
    "#initial coefficients (weight values), 2 copies, we'll update one\n",
    "beta_old, beta = np.ones((len(X_train.columns),1)), np.zeros((len(X_train.columns),1))\n",
    "\n",
    "#num iterations we've done so far\n",
    "iter_count = 0\n",
    "#have we reached convergence?\n",
    "coefs_converged = False\n",
    "\n",
    "#if we haven't reached convergence... (training step)\n",
    "while not coefs_converged:\n",
    "    \n",
    "    #set the old coefficients to our current\n",
    "    beta_old = beta\n",
    "    #perform a single step of newton's optimization on our data, set our updated beta values\n",
    "    beta = newton_step(beta, x_train)\n",
    "    #increment the number of iterations\n",
    "    iter_count += 1\n",
    "    \n",
    "    #check for convergence between our old and new beta values\n",
    "    coefs_converged = check_coefs_convergence(beta_old, beta, tol, iter_count)\n",
    "    \n",
    "print('Iterations : {}'.format(iter_count))\n",
    "print('Beta : {}'.format(beta))"
   ]
  },
  {
   "cell_type": "code",
   "execution_count": 189,
   "metadata": {
    "collapsed": false
   },
   "outputs": [
    {
     "data": {
      "image/png": "[encoded data removed]",
      "text/latex": [
       "$$\\left ( 20, \\quad 6178\\right )$$"
      ],
      "text/plain": [
       "(20, 6178)"
      ]
     },
     "execution_count": 189,
     "metadata": {},
     "output_type": "execute_result"
    }
   ],
   "source": [
    "beta.shape"
   ]
  },
  {
   "cell_type": "code",
   "execution_count": 190,
   "metadata": {
    "collapsed": false
   },
   "outputs": [
    {
     "data": {
      "image/png": "[encoded data removed]",
      "text/latex": [
       "$$\\left ( 6178, \\quad 20\\right )$$"
      ],
      "text/plain": [
       "(6178, 20)"
      ]
     },
     "execution_count": 190,
     "metadata": {},
     "output_type": "execute_result"
    }
   ],
   "source": [
    "x_train.shape"
   ]
  },
  {
   "cell_type": "code",
   "execution_count": 191,
   "metadata": {
    "collapsed": false
   },
   "outputs": [
    {
     "data": {
      "image/png": "[encoded data removed]",
      "text/latex": [
       "$$\\left ( 20, \\quad 6178\\right )$$"
      ],
      "text/plain": [
       "(20, 6178)"
      ]
     },
     "execution_count": 191,
     "metadata": {},
     "output_type": "execute_result"
    }
   ],
   "source": [
    "beta.shape"
   ]
  },
  {
   "cell_type": "code",
   "execution_count": 173,
   "metadata": {
    "collapsed": false
   },
   "outputs": [
    {
     "data": {
      "text/plain": [
       "array([[ -9.44475000e+04,  -8.83950000e+03,  -2.73400000e+03, ...,\n",
       "          9.73646000e+04,  -9.77563350e+03,  -1.23730643e+07],\n",
       "       [ -9.44475000e+04,  -8.83950000e+03,  -2.73400000e+03, ...,\n",
       "          9.73646000e+04,  -9.77563350e+03,  -1.23730643e+07],\n",
       "       [ -9.44475000e+04,  -8.83950000e+03,  -2.73400000e+03, ...,\n",
       "          9.73646000e+04,  -9.77563350e+03,  -1.23730643e+07],\n",
       "       ..., \n",
       "       [ -9.44475000e+04,  -8.83950000e+03,  -2.73400000e+03, ...,\n",
       "          9.73646000e+04,  -9.77563350e+03,  -1.23730643e+07],\n",
       "       [ -9.44475000e+04,  -8.83950000e+03,  -2.73400000e+03, ...,\n",
       "          9.73646000e+04,  -9.77563350e+03,  -1.23730643e+07],\n",
       "       [ -9.44475000e+04,  -8.83950000e+03,  -2.73400000e+03, ...,\n",
       "          9.73646000e+04,  -9.77563350e+03,  -1.23730643e+07]])"
      ]
     },
     "execution_count": 173,
     "metadata": {},
     "output_type": "execute_result"
    }
   ],
   "source": [
    "p = np.array(sigmoid(X.dot(beta[:,0])), ndmin=2).T\n",
    "np.dot((y-p), X_train)"
   ]
  },
  {
   "cell_type": "code",
   "execution_count": null,
   "metadata": {
    "collapsed": true
   },
   "outputs": [],
   "source": []
  }
 ],
 "metadata": {
  "kernelspec": {
   "display_name": "Python 3",
   "language": "python",
   "name": "python3"
  },
  "language_info": {
   "codemirror_mode": {
    "name": "ipython",
    "version": 3
   },
   "file_extension": ".py",
   "mimetype": "text/x-python",
   "name": "python",
   "nbconvert_exporter": "python",
   "pygments_lexer": "ipython3",
   "version": "3.6.0"
  }
 },
 "nbformat": 4,
 "nbformat_minor": 2
}
